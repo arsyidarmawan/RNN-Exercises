{
  "cells": [
    {
      "cell_type": "markdown",
      "metadata": {
        "id": "view-in-github",
        "colab_type": "text"
      },
      "source": [
        "<a href=\"https://colab.research.google.com/github/arsyidarmawan/RNN-Exercises/blob/main/02_RNN_Exercises.ipynb\" target=\"_parent\"><img src=\"https://colab.research.google.com/assets/colab-badge.svg\" alt=\"Open In Colab\"/></a>"
      ]
    },
    {
      "cell_type": "markdown",
      "metadata": {
        "collapsed": true,
        "id": "dbP_JWJrGLEF"
      },
      "source": [
        "<img src=\"https://github.com/akamezoya/RNN-Excercises/blob/Pierian-Data-Logo.PNG?raw=1\">\n",
        "<br>\n",
        "<strong><center>Copyright 2019. Created by Jose Marcial Portilla.</center></strong>"
      ]
    },
    {
      "cell_type": "markdown",
      "metadata": {
        "id": "j_NARA-RGLEM"
      },
      "source": [
        "# RNN Exercises\n",
        "For these exercises we're using data from the Federal Reserve Economic Database (FRED) concerning Electricity and Gas Utilities Production from January 1992 to January 2019 (325 records).\n",
        "\n",
        "Data source: https://fred.stlouisfed.org/series/IPG2211A2N\n",
        "\n",
        "In the exercises below you'll be asked to do the following:\n",
        "* Perform standard imports, load & plot the dataset (code provided)\n",
        "* Prepare data for an LSTM model\n",
        "* Define the LSTM model, loss and optimization functions\n",
        "* Train the model\n",
        "* Evaluate the model on test data\n",
        "* OPTIONAL: Plot the results\n",
        "\n",
        "<div class=\"alert alert-danger\" style=\"margin: 10px\"><strong>IMPORTANT NOTE!</strong> Make sure you don't run the cells directly above the example output shown, <br>otherwise you will end up writing over the example output!</div>"
      ]
    },
    {
      "cell_type": "markdown",
      "source": [
        "**NAMA : MUHAMAD ARSYI DARMAWAN**\n",
        "\n",
        "**NPM : 183112706450268** italicized text\n"
      ],
      "metadata": {
        "id": "Q4zCdf_AdZnb"
      }
    },
    {
      "cell_type": "markdown",
      "metadata": {
        "id": "FQoZWJrcGLEO"
      },
      "source": [
        "## Perform standard imports, load and plot the dataset\n",
        "Run the cells below to load the libraries needed for this exercise and the Energy Production dataset, and to plot the data."
      ]
    },
    {
      "cell_type": "code",
      "execution_count": 11,
      "metadata": {
        "colab": {
          "base_uri": "https://localhost:8080/",
          "height": 225
        },
        "id": "RvCsnf02GLEP",
        "outputId": "b2d57723-e132-4604-9252-4262221d217b"
      },
      "outputs": [
        {
          "output_type": "stream",
          "name": "stdout",
          "text": [
            "325\n"
          ]
        },
        {
          "output_type": "execute_result",
          "data": {
            "text/html": [
              "\n",
              "  <div id=\"df-c550642b-b769-411a-a9d5-9cd2d611fd53\">\n",
              "    <div class=\"colab-df-container\">\n",
              "      <div>\n",
              "<style scoped>\n",
              "    .dataframe tbody tr th:only-of-type {\n",
              "        vertical-align: middle;\n",
              "    }\n",
              "\n",
              "    .dataframe tbody tr th {\n",
              "        vertical-align: top;\n",
              "    }\n",
              "\n",
              "    .dataframe thead th {\n",
              "        text-align: right;\n",
              "    }\n",
              "</style>\n",
              "<table border=\"1\" class=\"dataframe\">\n",
              "  <thead>\n",
              "    <tr style=\"text-align: right;\">\n",
              "      <th></th>\n",
              "      <th>DATE</th>\n",
              "      <th>IPG2211A2N</th>\n",
              "    </tr>\n",
              "  </thead>\n",
              "  <tbody>\n",
              "    <tr>\n",
              "      <th>0</th>\n",
              "      <td>1/1/1992</td>\n",
              "      <td>85.5560</td>\n",
              "    </tr>\n",
              "    <tr>\n",
              "      <th>1</th>\n",
              "      <td>2/1/1992</td>\n",
              "      <td>80.4178</td>\n",
              "    </tr>\n",
              "    <tr>\n",
              "      <th>2</th>\n",
              "      <td>3/1/1992</td>\n",
              "      <td>74.7390</td>\n",
              "    </tr>\n",
              "    <tr>\n",
              "      <th>3</th>\n",
              "      <td>4/1/1992</td>\n",
              "      <td>69.8367</td>\n",
              "    </tr>\n",
              "    <tr>\n",
              "      <th>4</th>\n",
              "      <td>5/1/1992</td>\n",
              "      <td>67.3781</td>\n",
              "    </tr>\n",
              "  </tbody>\n",
              "</table>\n",
              "</div>\n",
              "      <button class=\"colab-df-convert\" onclick=\"convertToInteractive('df-c550642b-b769-411a-a9d5-9cd2d611fd53')\"\n",
              "              title=\"Convert this dataframe to an interactive table.\"\n",
              "              style=\"display:none;\">\n",
              "        \n",
              "  <svg xmlns=\"http://www.w3.org/2000/svg\" height=\"24px\"viewBox=\"0 0 24 24\"\n",
              "       width=\"24px\">\n",
              "    <path d=\"M0 0h24v24H0V0z\" fill=\"none\"/>\n",
              "    <path d=\"M18.56 5.44l.94 2.06.94-2.06 2.06-.94-2.06-.94-.94-2.06-.94 2.06-2.06.94zm-11 1L8.5 8.5l.94-2.06 2.06-.94-2.06-.94L8.5 2.5l-.94 2.06-2.06.94zm10 10l.94 2.06.94-2.06 2.06-.94-2.06-.94-.94-2.06-.94 2.06-2.06.94z\"/><path d=\"M17.41 7.96l-1.37-1.37c-.4-.4-.92-.59-1.43-.59-.52 0-1.04.2-1.43.59L10.3 9.45l-7.72 7.72c-.78.78-.78 2.05 0 2.83L4 21.41c.39.39.9.59 1.41.59.51 0 1.02-.2 1.41-.59l7.78-7.78 2.81-2.81c.8-.78.8-2.07 0-2.86zM5.41 20L4 18.59l7.72-7.72 1.47 1.35L5.41 20z\"/>\n",
              "  </svg>\n",
              "      </button>\n",
              "      \n",
              "  <style>\n",
              "    .colab-df-container {\n",
              "      display:flex;\n",
              "      flex-wrap:wrap;\n",
              "      gap: 12px;\n",
              "    }\n",
              "\n",
              "    .colab-df-convert {\n",
              "      background-color: #E8F0FE;\n",
              "      border: none;\n",
              "      border-radius: 50%;\n",
              "      cursor: pointer;\n",
              "      display: none;\n",
              "      fill: #1967D2;\n",
              "      height: 32px;\n",
              "      padding: 0 0 0 0;\n",
              "      width: 32px;\n",
              "    }\n",
              "\n",
              "    .colab-df-convert:hover {\n",
              "      background-color: #E2EBFA;\n",
              "      box-shadow: 0px 1px 2px rgba(60, 64, 67, 0.3), 0px 1px 3px 1px rgba(60, 64, 67, 0.15);\n",
              "      fill: #174EA6;\n",
              "    }\n",
              "\n",
              "    [theme=dark] .colab-df-convert {\n",
              "      background-color: #3B4455;\n",
              "      fill: #D2E3FC;\n",
              "    }\n",
              "\n",
              "    [theme=dark] .colab-df-convert:hover {\n",
              "      background-color: #434B5C;\n",
              "      box-shadow: 0px 1px 3px 1px rgba(0, 0, 0, 0.15);\n",
              "      filter: drop-shadow(0px 1px 2px rgba(0, 0, 0, 0.3));\n",
              "      fill: #FFFFFF;\n",
              "    }\n",
              "  </style>\n",
              "\n",
              "      <script>\n",
              "        const buttonEl =\n",
              "          document.querySelector('#df-c550642b-b769-411a-a9d5-9cd2d611fd53 button.colab-df-convert');\n",
              "        buttonEl.style.display =\n",
              "          google.colab.kernel.accessAllowed ? 'block' : 'none';\n",
              "\n",
              "        async function convertToInteractive(key) {\n",
              "          const element = document.querySelector('#df-c550642b-b769-411a-a9d5-9cd2d611fd53');\n",
              "          const dataTable =\n",
              "            await google.colab.kernel.invokeFunction('convertToInteractive',\n",
              "                                                     [key], {});\n",
              "          if (!dataTable) return;\n",
              "\n",
              "          const docLinkHtml = 'Like what you see? Visit the ' +\n",
              "            '<a target=\"_blank\" href=https://colab.research.google.com/notebooks/data_table.ipynb>data table notebook</a>'\n",
              "            + ' to learn more about interactive tables.';\n",
              "          element.innerHTML = '';\n",
              "          dataTable['output_type'] = 'display_data';\n",
              "          await google.colab.output.renderOutput(dataTable, element);\n",
              "          const docLink = document.createElement('div');\n",
              "          docLink.innerHTML = docLinkHtml;\n",
              "          element.appendChild(docLink);\n",
              "        }\n",
              "      </script>\n",
              "    </div>\n",
              "  </div>\n",
              "  "
            ],
            "text/plain": [
              "       DATE  IPG2211A2N\n",
              "0  1/1/1992     85.5560\n",
              "1  2/1/1992     80.4178\n",
              "2  3/1/1992     74.7390\n",
              "3  4/1/1992     69.8367\n",
              "4  5/1/1992     67.3781"
            ]
          },
          "metadata": {},
          "execution_count": 11
        }
      ],
      "source": [
        "# RUN THIS CELL\n",
        "import torch\n",
        "import torch.nn as nn\n",
        "from sklearn.preprocessing import MinMaxScaler\n",
        "\n",
        "import numpy as np\n",
        "import pandas as pd\n",
        "import matplotlib.pyplot as plt\n",
        "%matplotlib inline\n",
        "\n",
        "from pandas.plotting import register_matplotlib_converters\n",
        "register_matplotlib_converters()\n",
        "\n",
        "df = pd.read_csv('https://raw.githubusercontent.com/arsyidarmawan/RNN-Exercises/main/Energy_Production.csv')\n",
        "df.dropna(inplace=True)\n",
        "print(len(df))\n",
        "df.head()"
      ]
    },
    {
      "cell_type": "code",
      "execution_count": 12,
      "metadata": {
        "colab": {
          "base_uri": "https://localhost:8080/",
          "height": 281
        },
        "id": "qzctkh2wGLER",
        "outputId": "7fce03d2-4ab7-45b2-a14f-6a4714614368"
      },
      "outputs": [
        {
          "output_type": "display_data",
          "data": {
            "image/png": "[encoded data removed]",
            "text/plain": [
              "<Figure size 864x288 with 1 Axes>"
            ]
          },
          "metadata": {
            "needs_background": "light"
          }
        }
      ],
      "source": [
        "# RUN THIS CELL\n",
        "plt.figure(figsize=(12,4))\n",
        "plt.title('Energy Production')\n",
        "plt.ylabel('Sales (millions of dollars)')\n",
        "plt.grid(True)\n",
        "plt.autoscale(axis='x',tight=True)\n",
        "plt.plot(df['IPG2211A2N'])\n",
        "plt.show()"
      ]
    },
    {
      "cell_type": "markdown",
      "metadata": {
        "id": "2Z_OPSpHGLET"
      },
      "source": [
        "# Prepare the data\n",
        "For the first set of exercises we'll\n",
        "* divide the data into train and test sets\n",
        "* normalize the training set\n",
        "* prepare windowed seq/label tuples for an LSTM model"
      ]
    },
    {
      "cell_type": "markdown",
      "metadata": {
        "id": "OnHGZ2-5GLET"
      },
      "source": [
        "## 1. Divide the data into train and test sets\n",
        "Working with a window_size of 12, divide the dataset into a sequence of 313 training records (including the window), and a test set of 12 records."
      ]
    },
    {
      "cell_type": "code",
      "execution_count": 13,
      "metadata": {
        "id": "qn0WXcdXGLEV"
      },
      "outputs": [],
      "source": [
        "# CODE HERE\n",
        "# Extract values from the source .csv file\n",
        "y = df['IPG2211A2N'].values.astype(float)\n",
        "\n",
        "# Define a test size\n",
        "test_size = 12\n",
        "\n",
        "# Create train and test sets\n",
        "train_set = y[:-test_size]\n",
        "test_set = y[-test_size:]"
      ]
    },
    {
      "cell_type": "code",
      "execution_count": 14,
      "metadata": {
        "colab": {
          "base_uri": "https://localhost:8080/"
        },
        "id": "RUtq9BIaGLEW",
        "outputId": "0a86dc40-6c76-4b28-feb3-539ccb6d91cb"
      },
      "outputs": [
        {
          "output_type": "stream",
          "name": "stdout",
          "text": [
            "Train: 313\n",
            "Test:  12\n"
          ]
        }
      ],
      "source": [
        "# Run the code below to check your results:\n",
        "print(f'Train: {len(train_set)}')\n",
        "print(f'Test:  {len(test_set)}')"
      ]
    },
    {
      "cell_type": "code",
      "execution_count": 15,
      "metadata": {
        "id": "fTrQEwaAGLEX"
      },
      "outputs": [],
      "source": [
        "# DON'T WRITE HERE"
      ]
    },
    {
      "cell_type": "markdown",
      "metadata": {
        "id": "SxWuJ18iGLEY"
      },
      "source": [
        "## 2. Normalize the training set\n",
        "Feature scale the training set to fit within the range [-1,1]."
      ]
    },
    {
      "cell_type": "code",
      "execution_count": 16,
      "metadata": {
        "colab": {
          "base_uri": "https://localhost:8080/"
        },
        "id": "MueMzlrDGLEZ",
        "outputId": "e6b7a9b3-7343-46a7-e575-37f66b87b7c5"
      },
      "outputs": [
        {
          "output_type": "execute_result",
          "data": {
            "text/plain": [
              "-0.12206174942208882"
            ]
          },
          "metadata": {},
          "execution_count": 16
        }
      ],
      "source": [
        "from sklearn.preprocessing import MinMaxScaler\n",
        "\n",
        "#Instantiate a scaler with a feature range from -1 to 1\n",
        "scaler = MinMaxScaler(feature_range=(-1, 1))\n",
        "#Normalize the training set\n",
        "train_norm = scaler.fit_transform(train_set.reshape(-1, 1))\n",
        "train_norm.min()\n",
        "train_norm.max()\n",
        "train_norm.mean()"
      ]
    },
    {
      "cell_type": "code",
      "execution_count": 17,
      "metadata": {
        "colab": {
          "base_uri": "https://localhost:8080/"
        },
        "id": "IhjTuckcGLEZ",
        "outputId": "09fc2393-aae1-4206-cf87-8cf837b67f01"
      },
      "outputs": [
        {
          "output_type": "stream",
          "name": "stdout",
          "text": [
            "First item, original: 85.556\n",
            "First item, scaled:  [-0.4091274]\n"
          ]
        }
      ],
      "source": [
        "# Run the code below to check your results:\n",
        "print(f'First item, original: {train_set[0]}')\n",
        "print(f'First item, scaled:  {train_norm[0]}')"
      ]
    },
    {
      "cell_type": "code",
      "execution_count": 18,
      "metadata": {
        "id": "RKSlaiAyGLEa"
      },
      "outputs": [],
      "source": [
        "# DON'T WRITE HERE"
      ]
    },
    {
      "cell_type": "markdown",
      "metadata": {
        "id": "kez4n10IGLEb"
      },
      "source": [
        "## 3. Prepare data for LSTM\n",
        "Prepare the list of windowed sequence/label tuples to be fed into an LSTM model."
      ]
    },
    {
      "cell_type": "code",
      "execution_count": 19,
      "metadata": {
        "id": "arGbFPk9GLEb"
      },
      "outputs": [],
      "source": [
        "# RUN THIS CELL\n",
        "train_norm = torch.FloatTensor(train_norm).view(-1)\n",
        "\n",
        "def input_data(seq,ws):\n",
        "    out = []\n",
        "    L = len(seq)\n",
        "    for i in range(L-ws):\n",
        "        window = seq[i:i+ws]\n",
        "        label = seq[i+ws:i+ws+1]\n",
        "        out.append((window,label))\n",
        "    return out"
      ]
    },
    {
      "cell_type": "code",
      "execution_count": 20,
      "metadata": {
        "colab": {
          "base_uri": "https://localhost:8080/",
          "height": 226
        },
        "id": "UuLbXRL8GLEc",
        "outputId": "032b4dc4-a0f2-4016-d13c-c8a53f993981"
      },
      "outputs": [
        {
          "output_type": "error",
          "ename": "NameError",
          "evalue": "ignored",
          "traceback": [
            "\u001b[0;31m---------------------------------------------------------------------------\u001b[0m",
            "\u001b[0;31mNameError\u001b[0m                                 Traceback (most recent call last)",
            "\u001b[0;32m<ipython-input-20-a6e91bffca1e>\u001b[0m in \u001b[0;36m<module>\u001b[0;34m()\u001b[0m\n\u001b[1;32m      1\u001b[0m \u001b[0;31m# CODE HERE\u001b[0m\u001b[0;34m\u001b[0m\u001b[0;34m\u001b[0m\u001b[0;34m\u001b[0m\u001b[0m\n\u001b[1;32m      2\u001b[0m \u001b[0;34m\u001b[0m\u001b[0m\n\u001b[0;32m----> 3\u001b[0;31m \u001b[0mtrain_data\u001b[0m \u001b[0;34m=\u001b[0m \u001b[0minput_data\u001b[0m\u001b[0;34m(\u001b[0m\u001b[0mtrain_norm\u001b[0m\u001b[0;34m,\u001b[0m\u001b[0mwindow_size\u001b[0m\u001b[0;34m)\u001b[0m\u001b[0;34m\u001b[0m\u001b[0;34m\u001b[0m\u001b[0m\n\u001b[0m\u001b[1;32m      4\u001b[0m \u001b[0mlen\u001b[0m\u001b[0;34m(\u001b[0m\u001b[0mtrain_data\u001b[0m\u001b[0;34m)\u001b[0m\u001b[0;34m\u001b[0m\u001b[0;34m\u001b[0m\u001b[0m\n",
            "\u001b[0;31mNameError\u001b[0m: name 'window_size' is not defined"
          ]
        }
      ],
      "source": [
        "# CODE HERE\n",
        "\n",
        "train_data = input_data(train_norm,window_size)\n",
        "len(train_data) "
      ]
    },
    {
      "cell_type": "code",
      "execution_count": null,
      "metadata": {
        "id": "Uh_1Pb8qGLEc"
      },
      "outputs": [],
      "source": [
        "# Run the code below to check your results:\n",
        "print(f'Train_data: {len(train_data)}')  # should equal 301"
      ]
    },
    {
      "cell_type": "code",
      "execution_count": null,
      "metadata": {
        "id": "ZBFL4odZGLEd"
      },
      "outputs": [],
      "source": [
        "# DON'T WRITE HERE"
      ]
    },
    {
      "cell_type": "markdown",
      "metadata": {
        "id": "VTPXTqv-GLEd"
      },
      "source": [
        "## 4. Define the model\n",
        "Design a model that has a (1,64) LSTM layer and a (64,1) fully-connected linear layer. Be sure to initialize $h_0$ and $c_0$, and return only the last predicted value."
      ]
    },
    {
      "cell_type": "code",
      "execution_count": null,
      "metadata": {
        "id": "GrZ5w75JGLEe"
      },
      "outputs": [],
      "source": [
        "# CODE HERE\n",
        "class LSTMnetwork(nn.Module):\n",
        "    def __init__(self,input_size=1,hidden_size=64,output_size=1):\n",
        "        super().__init__()\n",
        "        self.hidden_size = hidden_size\n",
        "        \n",
        "        # Add an LSTM layer:\n",
        "        self.lstm = nn.LSTM(input_size,hidden_size)\n",
        "        \n",
        "        # Add a fully-connected layer:\n",
        "        self.linear = nn.Linear(hidden_size,output_size)\n",
        "        \n",
        "        # Initialize h0 and c0:\n",
        "        self.hidden = (torch.zeros(1,1,self.hidden_size),\n",
        "                       torch.zeros(1,1,self.hidden_size))\n",
        "\n",
        "    def forward(self,seq):\n",
        "        lstm_out, self.hidden = self.lstm(\n",
        "            seq.view(len(seq),1,-1), self.hidden)\n",
        "        pred = self.linear(lstm_out.view(len(seq),-1))\n",
        "        return pred[-1] \n"
      ]
    },
    {
      "cell_type": "code",
      "execution_count": null,
      "metadata": {
        "id": "5ysdJpu_GLEe"
      },
      "outputs": [],
      "source": [
        "# Run the code below to check your results:\n",
        "torch.manual_seed(101)\n",
        "model = LSTMnetwork()\n",
        "model"
      ]
    },
    {
      "cell_type": "code",
      "execution_count": null,
      "metadata": {
        "id": "OTE5kQuQGLEf"
      },
      "outputs": [],
      "source": [
        "# DON'T WRITE HERE"
      ]
    },
    {
      "cell_type": "markdown",
      "metadata": {
        "id": "byWWtXBWGLEf"
      },
      "source": [
        "## 5. Define loss and optimization functions\n",
        "Define a loss function called \"criterion\" and an optimizer called \"optimizer\".<br>\n",
        "You can use any functions you want, although we used MSELoss and Adam (learning rate of 0.001) respectively."
      ]
    },
    {
      "cell_type": "code",
      "execution_count": null,
      "metadata": {
        "id": "iaDXjNL7GLEg"
      },
      "outputs": [],
      "source": [
        "torch.manual_seed(101)\n",
        "model = LSTMnetwork()\n",
        "\n",
        "criterion = nn.MSELoss()\n",
        "optimizer = torch.optim.Adam(model.parameters(), lr=0.001)\n",
        "\n",
        "model\n",
        "\n",
        "def count_parameters(model):\n",
        "    params = [p.numel() for p in model.parameters() if p.requires_grad]\n",
        "    for item in params:\n",
        "        print(f'{item:>6}')\n",
        "    print(f'______\\n{sum(params):>6}')\n",
        "    \n",
        "count_parameters(model)"
      ]
    },
    {
      "cell_type": "code",
      "execution_count": null,
      "metadata": {
        "id": "Sa-9m8KlGLEg"
      },
      "outputs": [],
      "source": [
        "# DON'T WRITE HERE"
      ]
    },
    {
      "cell_type": "markdown",
      "metadata": {
        "id": "WUCmjSSYGLEh"
      },
      "source": [
        "### 6. Train the model\n",
        "Don't worry about tracking loss values, displaying results, or validating the test set. Just train the model through 50 epochs. We'll evaluate the trained model in the next step.<br>\n",
        "OPTIONAL: print something after each epoch to indicate training progress."
      ]
    },
    {
      "cell_type": "code",
      "execution_count": null,
      "metadata": {
        "id": "E8Ojr1UNGLEh"
      },
      "outputs": [],
      "source": [
        "# CODE HERE\n",
        "\n",
        "epochs = 50\n",
        "\n",
        "import time\n",
        "start_time = time.time()\n",
        "\n",
        "for epoch in range(epochs):\n",
        "    \n",
        "    # extract the sequence & label from the training data\n",
        "    for seq, y_train in train_data:\n",
        "        \n",
        "        # reset the parameters and hidden states\n",
        "        optimizer.zero_grad()\n",
        "        model.hidden = (torch.zeros(1,1,model.hidden_size),\n",
        "                        torch.zeros(1,1,model.hidden_size))\n",
        "        \n",
        "        y_pred = model(seq)\n",
        "        \n",
        "        loss = criterion(y_pred, y_train)\n",
        "        loss.backward()\n",
        "        optimizer.step()\n",
        "        \n",
        "    # print training result\n",
        "    print(f'Epoch: {epoch+1:2} Loss: {loss.item():10.8f}')\n",
        "    \n",
        "print(f'\\nDuration: {time.time() - start_time:.0f} seconds')\n"
      ]
    },
    {
      "cell_type": "code",
      "execution_count": null,
      "metadata": {
        "id": "qzgHg6cuGLEh"
      },
      "outputs": [],
      "source": [
        "# DON'T WRITE HERE"
      ]
    },
    {
      "cell_type": "markdown",
      "metadata": {
        "id": "X30H5PQgGLEi"
      },
      "source": [
        "### 9. Evaluate the model using the test set\n",
        "Be sure to re-initialize the hidden parameters $h_0$ and $c_0$ before running the model."
      ]
    },
    {
      "cell_type": "code",
      "execution_count": null,
      "metadata": {
        "id": "FDIxu0jZGLEi"
      },
      "outputs": [],
      "source": [
        "future = 12\n",
        "\n",
        "# Add the last window of training values to the list of predictions\n",
        "preds = train_norm[-window_size:].tolist()\n",
        "\n",
        "# Set the model to evaluation mode\n",
        "model.eval()\n",
        "\n",
        "for i in range(future):\n",
        "    seq = torch.FloatTensor(preds[-window_size:])\n",
        "    with torch.no_grad():\n",
        "        model.hidden = (torch.zeros(1,1,model.hidden_size),\n",
        "                        torch.zeros(1,1,model.hidden_size))\n",
        "        preds.append(model(seq).item())\n",
        "\n"
      ]
    },
    {
      "cell_type": "code",
      "execution_count": null,
      "metadata": {
        "id": "ubbEMZRuGLEi"
      },
      "outputs": [],
      "source": [
        "# Run the code below to check your results:\n",
        "preds[window_size:]"
      ]
    },
    {
      "cell_type": "code",
      "execution_count": null,
      "metadata": {
        "id": "L43t5hf8GLEj"
      },
      "outputs": [],
      "source": [
        "# DON'T WRITE HERE"
      ]
    },
    {
      "cell_type": "markdown",
      "metadata": {
        "id": "wo4XtLxVGLEj"
      },
      "source": [
        "## 10. Inverse transform the predicted values\n",
        "Rescale the predicted values up to the original test set range."
      ]
    },
    {
      "cell_type": "code",
      "execution_count": null,
      "metadata": {
        "id": "N22C15OlGLEj"
      },
      "outputs": [],
      "source": [
        "# CODE HERE\n",
        "true_predictions = scaler.inverse_transform(np.array(preds[window_size:]).reshape(-1, 1))\n",
        "true_predictions\n",
        "df['IPG2211A2N'][-12:]"
      ]
    },
    {
      "cell_type": "code",
      "execution_count": null,
      "metadata": {
        "id": "Rw2WgEeIGLEk"
      },
      "outputs": [],
      "source": [
        "# Run the code below to check your results:\n",
        "true_predictions"
      ]
    },
    {
      "cell_type": "code",
      "execution_count": null,
      "metadata": {
        "id": "aBOfoFe5GLEk"
      },
      "outputs": [],
      "source": [
        "# DON'T WRITE HERE"
      ]
    },
    {
      "cell_type": "markdown",
      "metadata": {
        "id": "GVwppsYIGLEk"
      },
      "source": [
        "## BONUS EXERCISE: Plot the result\n",
        "Plot the true_predictions values together with the original data. Remember to create a range of datetime values for the predicted data."
      ]
    },
    {
      "cell_type": "code",
      "execution_count": 25,
      "metadata": {
        "colab": {
          "base_uri": "https://localhost:8080/"
        },
        "id": "QC9EAx2wGLEl",
        "outputId": "215196d7-f4f8-4c9e-c052-b9d999a3aba0"
      },
      "outputs": [
        {
          "output_type": "execute_result",
          "data": {
            "text/plain": [
              "array(['2016-02-01', '2016-03-01', '2016-04-01', '2016-05-01',\n",
              "       '2016-06-01', '2016-07-01', '2016-08-01', '2016-09-01',\n",
              "       '2016-10-01', '2016-11-01', '2016-12-01', '2017-01-01',\n",
              "       '2017-02-01', '2017-03-01', '2017-04-01', '2017-05-01',\n",
              "       '2017-06-01', '2017-07-01', '2017-08-01', '2017-09-01',\n",
              "       '2017-10-01', '2017-11-01', '2017-12-01', '2018-01-01',\n",
              "       '2018-02-01', '2018-03-01', '2018-04-01', '2018-05-01',\n",
              "       '2018-06-01', '2018-07-01', '2018-08-01', '2018-09-01',\n",
              "       '2018-10-01', '2018-11-01', '2018-12-01', '2019-01-01'],\n",
              "      dtype='datetime64[D]')"
            ]
          },
          "metadata": {},
          "execution_count": 25
        }
      ],
      "source": [
        "# CODE HERE\n",
        "# Remember that the stop date has to be later than the last predicted value.\n",
        "x = np.arange('2016-02-01', '2019-02-01', dtype='datetime64[M]').astype('datetime64[D]')\n",
        "x\n",
        "\n"
      ]
    },
    {
      "cell_type": "markdown",
      "source": [
        ""
      ],
      "metadata": {
        "id": "SN98IiaTdW2T"
      }
    },
    {
      "cell_type": "code",
      "execution_count": 26,
      "metadata": {
        "colab": {
          "base_uri": "https://localhost:8080/",
          "height": 490
        },
        "id": "CKusonXKGLEl",
        "outputId": "da8baa5b-8741-4606-9354-02fd4d3b20d7"
      },
      "outputs": [
        {
          "output_type": "error",
          "ename": "NameError",
          "evalue": "ignored",
          "traceback": [
            "\u001b[0;31m---------------------------------------------------------------------------\u001b[0m",
            "\u001b[0;31mNameError\u001b[0m                                 Traceback (most recent call last)",
            "\u001b[0;32m<ipython-input-26-2fc096db4131>\u001b[0m in \u001b[0;36m<module>\u001b[0;34m()\u001b[0m\n\u001b[1;32m      5\u001b[0m \u001b[0mplt\u001b[0m\u001b[0;34m.\u001b[0m\u001b[0mautoscale\u001b[0m\u001b[0;34m(\u001b[0m\u001b[0maxis\u001b[0m\u001b[0;34m=\u001b[0m\u001b[0;34m'x'\u001b[0m\u001b[0;34m,\u001b[0m\u001b[0mtight\u001b[0m\u001b[0;34m=\u001b[0m\u001b[0;32mTrue\u001b[0m\u001b[0;34m)\u001b[0m\u001b[0;34m\u001b[0m\u001b[0;34m\u001b[0m\u001b[0m\n\u001b[1;32m      6\u001b[0m \u001b[0mplt\u001b[0m\u001b[0;34m.\u001b[0m\u001b[0mplot\u001b[0m\u001b[0;34m(\u001b[0m\u001b[0mdf\u001b[0m\u001b[0;34m[\u001b[0m\u001b[0;34m'IPG2211A2N'\u001b[0m\u001b[0;34m]\u001b[0m\u001b[0;34m)\u001b[0m\u001b[0;34m\u001b[0m\u001b[0;34m\u001b[0m\u001b[0m\n\u001b[0;32m----> 7\u001b[0;31m \u001b[0mplt\u001b[0m\u001b[0;34m.\u001b[0m\u001b[0mplot\u001b[0m\u001b[0;34m(\u001b[0m\u001b[0mx\u001b[0m\u001b[0;34m,\u001b[0m\u001b[0mtrue_predictions\u001b[0m\u001b[0;34m)\u001b[0m\u001b[0;34m\u001b[0m\u001b[0;34m\u001b[0m\u001b[0m\n\u001b[0m\u001b[1;32m      8\u001b[0m \u001b[0mplt\u001b[0m\u001b[0;34m.\u001b[0m\u001b[0mshow\u001b[0m\u001b[0;34m(\u001b[0m\u001b[0;34m)\u001b[0m\u001b[0;34m\u001b[0m\u001b[0;34m\u001b[0m\u001b[0m\n",
            "\u001b[0;31mNameError\u001b[0m: name 'true_predictions' is not defined"
          ]
        },
        {
          "output_type": "display_data",
          "data": {
            "image/png": "[encoded data removed]",
            "text/plain": [
              "<Figure size 864x288 with 1 Axes>"
            ]
          },
          "metadata": {
            "needs_background": "light"
          }
        }
      ],
      "source": [
        "plt.figure(figsize=(12,4))\n",
        "plt.title('Energy')\n",
        "plt.ylabel('Sales (millions of dollars)')\n",
        "plt.grid(True)\n",
        "plt.autoscale(axis='x',tight=True)\n",
        "plt.plot(df['IPG2211A2N'])\n",
        "plt.plot(x,true_predictions)\n",
        "plt.show()"
      ]
    },
    {
      "cell_type": "code",
      "execution_count": 22,
      "metadata": {
        "id": "vfI1iwdDGLEl"
      },
      "outputs": [],
      "source": [
        "# DON'T WRITE HERE"
      ]
    },
    {
      "cell_type": "code",
      "execution_count": 23,
      "metadata": {
        "id": "2j5BvLAXGLEm"
      },
      "outputs": [],
      "source": [
        "# DON'T WRITE HERE"
      ]
    },
    {
      "cell_type": "markdown",
      "metadata": {
        "id": "7ufoaLkFGLEm"
      },
      "source": [
        "## Great job!"
      ]
    }
  ],
  "metadata": {
    "kernelspec": {
      "display_name": "Python 3 (ipykernel)",
      "language": "python",
      "name": "python3"
    },
    "language_info": {
      "codemirror_mode": {
        "name": "ipython",
        "version": 3
      },
      "file_extension": ".py",
      "mimetype": "text/x-python",
      "name": "python",
      "nbconvert_exporter": "python",
      "pygments_lexer": "ipython3",
      "version": "3.7.3"
    },
    "colab": {
      "name": "02-RNN-Exercises.ipynb",
      "provenance": [],
      "collapsed_sections": [],
      "include_colab_link": true
    }
  },
  "nbformat": 4,
  "nbformat_minor": 0
}